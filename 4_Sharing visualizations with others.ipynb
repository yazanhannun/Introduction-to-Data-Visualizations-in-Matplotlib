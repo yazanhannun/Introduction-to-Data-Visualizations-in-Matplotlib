{
 "cells": [
  {
   "cell_type": "markdown",
   "metadata": {},
   "source": [
    "# Sharing visualizations with others"
   ]
  },
  {
   "cell_type": "markdown",
   "metadata": {},
   "source": [
    "# 1. Preparing your figures to share with others"
   ]
  },
  {
   "cell_type": "markdown",
   "metadata": {},
   "source": [
    "<b>1.1 Selecting a style for printing</b>\n",
    "\n",
    "You are creating a figure that will be included in a leaflet printed on a black-and-white printer. What style should you choose for your figures?\n",
    "\n",
    "Possible Answers\n",
    "\n",
    "- 'seaborn-colorblind'\n",
    "- 'grayscale'  --------------------> True\n",
    "- 'tableau-colorblind10'\n",
    "- 'bmh'"
   ]
  }
 ],
 "metadata": {
  "language_info": {
   "name": "python"
  },
  "orig_nbformat": 4
 },
 "nbformat": 4,
 "nbformat_minor": 2
}
